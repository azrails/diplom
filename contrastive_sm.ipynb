{
 "cells": [
  {
   "cell_type": "code",
   "execution_count": 4,
   "metadata": {},
   "outputs": [],
   "source": [
    "import os\n",
    "BASE_DIR = './runs'\n",
    "import math\n",
    "os.makedirs(BASE_DIR, exist_ok=True)\n",
    "import random\n",
    "import torch\n",
    "import os\n",
    "from tqdm.notebook import tqdm\n",
    "import torch.nn as nn\n",
    "from torch.utils.data import DataLoader, ConcatDataset\n",
    "from torch.nn.utils.rnn import pad_sequence\n",
    "from utils import config\n",
    "from data_utils import dataset\n",
    "from model import vit\n",
    "from torch.utils.tensorboard import SummaryWriter\n",
    "import numpy as np\n",
    "from gensim.test.utils import datapath, get_tmpfile\n",
    "from gensim.models import KeyedVectors\n",
    "from gensim.scripts.glove2word2vec import glove2word2vec\n",
    "from model.loss import ContrastiveLoss, ContrastiveSoftMax\n",
    "\n",
    "#sets random\n",
    "random_seed=42\n",
    "random.seed(42)\n",
    "torch.manual_seed(random_seed)\n",
    "\n",
    "device=\"cuda\" if torch.cuda.is_available() else (\"mps\" if torch.backends.mps.is_available() else \"cpu\" )\n",
    "\n",
    "match device:\n",
    "    case \"cuda\":\n",
    "        torch.cuda.manual_seed_all(random_seed)\n",
    "    case \"mps\":\n",
    "        torch.mps.manual_seed(random_seed)\n",
    "\n",
    "import gc\n",
    "gc.collect()\n",
    "torch.cuda.empty_cache()\n",
    "conf = config.load_config(\"configs/stage_contrastive.yaml\")"
   ]
  },
  {
   "cell_type": "code",
   "execution_count": 2,
   "metadata": {},
   "outputs": [],
   "source": [
    "#GloVe\n",
    "glove_file = './datasets/glove.6B.300d.txt'\n",
    "word2vec_temp_file = get_tmpfile(\"glove_word2vec.txt\")\n",
    "glove2word2vec(glove_file, word2vec_temp_file)\n",
    "glove_model = KeyedVectors.load_word2vec_format(word2vec_temp_file)\n",
    "glove_model = KeyedVectors.load_word2vec_format(word2vec_temp_file)\n",
    "class Tokenizer:\n",
    "    def __init__(self, embeding_model):\n",
    "        self.embeddings = embeding_model\n",
    "    \n",
    "    def tokenize(self, sent_tokens):\n",
    "        tokens_embeddings = []\n",
    "        for t in sent_tokens:\n",
    "            if t in self.embeddings:\n",
    "                tokens_embeddings.append(self.embeddings[t])\n",
    "            else:\n",
    "                tokens_embeddings.append(np.zeros(300))\n",
    "        return torch.FloatTensor(tokens_embeddings)\n",
    "\n",
    "tokenizer = Tokenizer(glove_model)"
   ]
  },
  {
   "cell_type": "code",
   "execution_count": 3,
   "metadata": {},
   "outputs": [
    {
     "data": {
      "text/plain": [
       "(7347456, 816768, 28521985)"
      ]
     },
     "execution_count": 3,
     "metadata": {},
     "output_type": "execute_result"
    }
   ],
   "source": [
    "\n",
    "image_embeder = vit.ImgEncoder(**conf['model']['ImageEncoder'])\n",
    "text_embeder = vit.TextConvEncoder(**conf['model']['TextConvEncoder'])\n",
    "siam_model = vit.SiamEncoder(**conf['model']['SiamEncoder'])\n",
    "siam_model_params = list(image_embeder.parameters()) + list(text_embeder.parameters()) + list(siam_model.parameters())\n",
    "optimizer = torch.optim.AdamW(siam_model_params,  **conf['optimizer_params'])\n",
    "scheduler = torch.optim.lr_scheduler.MultiStepLR(\n",
    "            optimizer,\n",
    "            milestones=conf['train_settings']['milestones'],\n",
    "            gamma=conf['train_settings']['lr_decay']\n",
    "        )\n",
    "scaler = torch.cuda.amp.GradScaler()\n",
    "losses = []\n",
    "val_scores = []\n",
    "(sum(p.numel() for p in image_embeder.parameters() if p.requires_grad), \n",
    "sum(p.numel() for p in text_embeder.parameters() if p.requires_grad), \n",
    "sum(p.numel() for p in siam_model.parameters() if p.requires_grad))"
   ]
  },
  {
   "cell_type": "code",
   "execution_count": 4,
   "metadata": {},
   "outputs": [],
   "source": [
    "import json\n",
    "def save_checkpoint(path_to_checkpoints_folder, checkpoint_name, conf, text_embedder, img_embedder, siam_model, optimizer, scheduler, scaler, train_losses, val_scores):\n",
    "    \"\"\"\n",
    "    Save model, config, score\n",
    "    \"\"\"\n",
    "    path_to_checkpoint = os.path.join(path_to_checkpoints_folder, checkpoint_name)\n",
    "    os.makedirs(path_to_checkpoint, exist_ok=True)\n",
    "    config.dump_config(path_to_checkpoint, conf, 'config.yaml')\n",
    "\n",
    "    path_to_metrics = os.path.join(path_to_checkpoint, 'metrics.json')\n",
    "    with open(path_to_metrics, 'w') as f:\n",
    "        json.dump({'train_losses': train_losses, 'val_scores': val_scores}, f, indent=4)\n",
    "    \n",
    "    path_to_model = os.path.join(path_to_checkpoint, 'model.pt')\n",
    "    torch.save(\n",
    "                {\n",
    "                    'text_embedder_state_dict': text_embedder.state_dict(),\n",
    "                    'img_embedder_state_dict': img_embedder.state_dict(),\n",
    "                    'siam_model_state_dict': siam_model.state_dict(),\n",
    "                    'optimizer_state_dict': optimizer.state_dict(),\n",
    "                    'scheduler_state_dict': scheduler.state_dict(),\n",
    "                    \"scaler_state_dict\": scaler.state_dict()\n",
    "                \n",
    "                },\n",
    "                path_to_model\n",
    "                )\n",
    "\n",
    "def load_checkpoint(path_to_checkpoints_folder, checkpoint_name, device):\n",
    "    path_to_data = os.path.join(path_to_checkpoints_folder, checkpoint_name)\n",
    "    conf = config.load_config(os.path.join(path_to_data, 'config.yaml'))\n",
    "\n",
    "    with open(os.path.join(path_to_data, 'metrics.json'), 'r') as f:\n",
    "        data = json.load(f)\n",
    "    train_losses = data['train_losses']\n",
    "    val_scores = data['val_scores']\n",
    "\n",
    "    path_to_model = os.path.join(path_to_data, 'model.pt')\n",
    "    model_state = torch.load(path_to_model, map_location=device)\n",
    "    image_embeder = vit.ImgEncoder(**conf['model']['ImageEncoder'])\n",
    "    text_embeder = vit.TextConvEncoder(**conf['model']['TextConvEncoder'])\n",
    "    siam_model = vit.SiamEncoder(**conf['model']['SiamEncoder'])\n",
    "    scaler = torch.cuda.amp.GradScaler()\n",
    "    image_embeder.load_state_dict(model_state['img_embedder_state_dict'])\n",
    "    text_embeder.load_state_dict(model_state['text_embedder_state_dict'])\n",
    "    siam_model.load_state_dict(model_state['siam_model_state_dict'])\n",
    "    scaler.load_state_dict(model_state['scaler_state_dict'])\n",
    "\n",
    "\n",
    "    image_embeder = image_embeder.to(device)\n",
    "    text_embeder = text_embeder.to(device)\n",
    "    siam_model = siam_model.to(device)\n",
    "\n",
    "    siam_model_params = torch.nn.ModuleList([image_embeder, text_embeder, siam_model])\n",
    "    optimizer = torch.optim.AdamW(siam_model_params.parameters(), **conf['optimizer_params'])\n",
    "    optimizer.load_state_dict(model_state['optimizer_state_dict'])\n",
    "\n",
    "    scheduler = torch.optim.lr_scheduler.MultiStepLR(\n",
    "        optimizer, \n",
    "        milestones=conf['train_settings']['milestones'], \n",
    "        gamma=conf['train_settings']['lr_decay'])\n",
    "    return image_embeder, text_embeder, siam_model, optimizer, scheduler, conf, scaler, train_losses, val_scores"
   ]
  },
  {
   "cell_type": "code",
   "execution_count": null,
   "metadata": {},
   "outputs": [
    {
     "ename": "FileNotFoundError",
     "evalue": "[Errno 2] No such file or directory: './runs/epoch_46/config.yaml'",
     "output_type": "error",
     "traceback": [
      "\u001b[0;31m---------------------------------------------------------------------------\u001b[0m",
      "\u001b[0;31mFileNotFoundError\u001b[0m                         Traceback (most recent call last)",
      "Cell \u001b[0;32mIn[106], line 1\u001b[0m\n\u001b[0;32m----> 1\u001b[0m image_embeder, text_embeder, siam_model, optimizer, scheduler, conf, losses, val_scores \u001b[38;5;241m=\u001b[39m \u001b[43mload_checkpoint\u001b[49m\u001b[43m(\u001b[49m\u001b[43mBASE_DIR\u001b[49m\u001b[43m,\u001b[49m\u001b[43m \u001b[49m\u001b[38;5;124;43m\"\u001b[39;49m\u001b[38;5;124;43mepoch_46\u001b[39;49m\u001b[38;5;124;43m\"\u001b[39;49m\u001b[43m,\u001b[49m\u001b[43m \u001b[49m\u001b[43mdevice\u001b[49m\u001b[43m)\u001b[49m\n\u001b[1;32m      2\u001b[0m siam_model_params \u001b[38;5;241m=\u001b[39m torch\u001b[38;5;241m.\u001b[39mnn\u001b[38;5;241m.\u001b[39mModuleList([image_embeder, text_embeder, siam_model])\n",
      "Cell \u001b[0;32mIn[105], line 29\u001b[0m, in \u001b[0;36mload_checkpoint\u001b[0;34m(path_to_checkpoints_folder, checkpoint_name, device)\u001b[0m\n\u001b[1;32m     27\u001b[0m \u001b[38;5;28;01mdef\u001b[39;00m \u001b[38;5;21mload_checkpoint\u001b[39m(path_to_checkpoints_folder, checkpoint_name, device):\n\u001b[1;32m     28\u001b[0m     path_to_data \u001b[38;5;241m=\u001b[39m os\u001b[38;5;241m.\u001b[39mpath\u001b[38;5;241m.\u001b[39mjoin(path_to_checkpoints_folder, checkpoint_name)\n\u001b[0;32m---> 29\u001b[0m     conf \u001b[38;5;241m=\u001b[39m \u001b[43mconfig\u001b[49m\u001b[38;5;241;43m.\u001b[39;49m\u001b[43mload_config\u001b[49m\u001b[43m(\u001b[49m\u001b[43mos\u001b[49m\u001b[38;5;241;43m.\u001b[39;49m\u001b[43mpath\u001b[49m\u001b[38;5;241;43m.\u001b[39;49m\u001b[43mjoin\u001b[49m\u001b[43m(\u001b[49m\u001b[43mpath_to_data\u001b[49m\u001b[43m,\u001b[49m\u001b[43m \u001b[49m\u001b[38;5;124;43m'\u001b[39;49m\u001b[38;5;124;43mconfig.yaml\u001b[39;49m\u001b[38;5;124;43m'\u001b[39;49m\u001b[43m)\u001b[49m\u001b[43m)\u001b[49m\n\u001b[1;32m     31\u001b[0m     \u001b[38;5;28;01mwith\u001b[39;00m \u001b[38;5;28mopen\u001b[39m(os\u001b[38;5;241m.\u001b[39mpath\u001b[38;5;241m.\u001b[39mjoin(path_to_data, \u001b[38;5;124m'\u001b[39m\u001b[38;5;124mmetrics.json\u001b[39m\u001b[38;5;124m'\u001b[39m), \u001b[38;5;124m'\u001b[39m\u001b[38;5;124mr\u001b[39m\u001b[38;5;124m'\u001b[39m) \u001b[38;5;28;01mas\u001b[39;00m f:\n\u001b[1;32m     32\u001b[0m         data \u001b[38;5;241m=\u001b[39m json\u001b[38;5;241m.\u001b[39mload(f)\n",
      "File \u001b[0;32m~/diplom/diplom/utils/config.py:5\u001b[0m, in \u001b[0;36mload_config\u001b[0;34m(path)\u001b[0m\n\u001b[1;32m      4\u001b[0m \u001b[38;5;28;01mdef\u001b[39;00m \u001b[38;5;21mload_config\u001b[39m(path):\n\u001b[0;32m----> 5\u001b[0m     \u001b[38;5;28;01mwith\u001b[39;00m \u001b[38;5;28;43mopen\u001b[39;49m\u001b[43m(\u001b[49m\u001b[43mpath\u001b[49m\u001b[43m,\u001b[49m\u001b[43m \u001b[49m\u001b[38;5;124;43m'\u001b[39;49m\u001b[38;5;124;43mr\u001b[39;49m\u001b[38;5;124;43m'\u001b[39;49m\u001b[43m)\u001b[49m \u001b[38;5;28;01mas\u001b[39;00m f:\n\u001b[1;32m      6\u001b[0m         config \u001b[38;5;241m=\u001b[39m yaml\u001b[38;5;241m.\u001b[39msafe_load(f)\n\u001b[1;32m      7\u001b[0m     \u001b[38;5;28;01mreturn\u001b[39;00m config\n",
      "\u001b[0;31mFileNotFoundError\u001b[0m: [Errno 2] No such file or directory: './runs/epoch_46/config.yaml'"
     ]
    }
   ],
   "source": [
    "image_embeder, text_embeder, siam_model, optimizer, scheduler, conf, scaler, losses, val_scores = load_checkpoint(BASE_DIR, \"epoch_46\", device)\n",
    "siam_model_params = torch.nn.ModuleList([image_embeder, text_embeder, siam_model])"
   ]
  },
  {
   "cell_type": "code",
   "execution_count": 5,
   "metadata": {},
   "outputs": [],
   "source": [
    "SEQ_LEN = conf['model']['TextConvEncoder']['seq_len']\n",
    "\n",
    "def tokenize_sent_batch(sents_batch):\n",
    "    tokenized_sentences = []\n",
    "    length_list = []\n",
    "    for sent in sents_batch:\n",
    "        sent_tokens = sent.strip().split()\n",
    "        if len(sent_tokens) > SEQ_LEN:\n",
    "            sent_tokens = sent_tokens[:SEQ_LEN]\n",
    "        tokenized_sentences.append(tokenizer.tokenize(sent_tokens))\n",
    "        length_list.append(len(sent_tokens))\n",
    "    #pad sequences to Text Embeder len\n",
    "    tokenized_sentences[0] = torch.concat((tokenized_sentences[0], torch.zeros(SEQ_LEN - length_list[0], 300)), dim=0)\n",
    "    seqs = pad_sequence(tokenized_sentences, batch_first=True)\n",
    "    return seqs, torch.tensor(length_list, dtype=torch.uint8)\n",
    "\n",
    "\n",
    "def pading_sentences_fn(data):\n",
    "    masks_tensors, sents= zip(*data)\n",
    "    masks_tensors = torch.stack(masks_tensors)\n",
    "    sents, lens = tokenize_sent_batch(sents)\n",
    "    return masks_tensors, sents, lens\n",
    "\n",
    "\n",
    "train_dataset = dataset.ReferenceDataset(\n",
    "    **conf['data']['train'],\n",
    ")\n",
    "train_data_coco_plus = dataset.ReferenceDataset(\n",
    "    **conf['data']['train_plus'],\n",
    ")\n",
    "union_train_dataset = ConcatDataset([train_dataset, train_data_coco_plus])\n",
    "train_data = DataLoader(\n",
    "    union_train_dataset,\n",
    "    batch_size=conf['train_settings']['batch_size'],\n",
    "    shuffle=True,\n",
    "    pin_memory=True,\n",
    "    drop_last=True,\n",
    "    num_workers=6,\n",
    "    collate_fn=pading_sentences_fn\n",
    ")\n",
    "\n",
    "val_dataset = dataset.ReferenceDataset(\n",
    "    **conf['data']['val'],\n",
    ")\n",
    "val_dataset_plus = dataset.ReferenceDataset(\n",
    "    **conf['data']['val_plus'],\n",
    ")\n",
    "union_val_dataset = ConcatDataset([val_dataset, val_dataset_plus])\n",
    "val_data = DataLoader(\n",
    "    union_val_dataset,\n",
    "    batch_size=conf['train_settings']['batch_size'],\n",
    "    shuffle=False,\n",
    "    pin_memory=True,\n",
    "    drop_last=True,\n",
    "    num_workers=6,\n",
    "    collate_fn=pading_sentences_fn\n",
    ")\n",
    "epoch = (conf['train_settings']['start_epoch'], conf['train_settings']['epochs'])"
   ]
  },
  {
   "cell_type": "code",
   "execution_count": 6,
   "metadata": {},
   "outputs": [],
   "source": [
    "class Trainer:\n",
    "    def __init__(self, text_embedder, img_embedder, siam_model, optimizer, checkpoint_path, scheduler, conf, scaler, device=\"cpu\", tb_path=None):\n",
    "        self.text_embedder = text_embedder.to(device)\n",
    "        self.img_embedder = img_embedder.to(device)\n",
    "        self.siam_model = siam_model.to(device)\n",
    "        self.optimizer = optimizer\n",
    "        self.scheduler = scheduler\n",
    "        self.device = device\n",
    "        self.tb_path = tb_path\n",
    "        self.checkpoint_path = checkpoint_path\n",
    "        self.loss_fn = ContrastiveSoftMax(batch_size=conf['train_settings']['batch_size'],  temperature=1.0).to(device)\n",
    "        self.conf = conf\n",
    "        self.scaler=scaler\n",
    "        if self.tb_path is not None:\n",
    "            self.writer =  SummaryWriter(self.checkpoint_path, self.tb_path)\n",
    "\n",
    "    def train(self, train_data, val_data, epochs, losses, val_scores, checkpoint_step=1, scheduler_step=1, scaler_step=1):\n",
    "        if self.tb_path is not None:\n",
    "          for i, ls in enumerate(losses):\n",
    "            self.writer.add_scalar(\"Loss_epoche/train\", ls, i)\n",
    "          for i, vl in enumerate(val_scores):\n",
    "            self.writer.add_scalar(\"MSE/val\", vl, i)\n",
    "        for epoch in tqdm(range(epochs[0], epochs[1]), desc='Epochs'):\n",
    "            train_loss = self.train_epoch(train_data, epoch, scaler_step)\n",
    "            val_acc, cosine_acc, snx_loss = self.validate(val_data)\n",
    "            if self.tb_path is not None:\n",
    "                self.writer.add_scalar(\"Cosine/val\", cosine_acc , epoch )\n",
    "                self.writer.add_scalar(\"Loss_epoche/train\", train_loss, epoch)\n",
    "                self.writer.add_scalar(\"MSE/val\", val_acc, epoch)\n",
    "                self.writer.add_scalar(\"SN-XTENT/val\", snx_loss, epoch)\n",
    "            print(f\"Epoch: {epoch}/{epochs} - Loss: {train_loss:.4f}\")\n",
    "            losses.append(train_loss)\n",
    "            val_scores.append(val_acc)\n",
    "            if (epoch + 1) % scheduler_step == 0:\n",
    "                self.scheduler.step()\n",
    "            if (epoch + 1) % checkpoint_step == 0 and epoch != 0:\n",
    "                self.conf['train_settings']['start_epoch'] = epoch + 1\n",
    "                save_checkpoint(\n",
    "                    self.checkpoint_path,\n",
    "                    f'epoch_{epoch}',\n",
    "                    self.conf,\n",
    "                    self.text_embedder,\n",
    "                    self.img_embedder,\n",
    "                    self.siam_model,\n",
    "                    self.optimizer,\n",
    "                    self.scheduler,\n",
    "                    self.scaler,\n",
    "                    losses,\n",
    "                    val_scores\n",
    "                    )\n",
    "\n",
    "    def train_epoch(self, train_data, epoch, scaler_step):\n",
    "        self.img_embedder.train()\n",
    "        self.text_embedder.train()\n",
    "        self.siam_model.train()\n",
    "        img_embedder = torch.compile(self.img_embedder, mode='max-autotune', fullgraph=True)\n",
    "        text_embedder = torch.compile(self.text_embedder, mode='max-autotune', fullgraph=True)\n",
    "        siam_model = torch.compile(self.siam_model, mode='max-autotune', fullgraph=True)\n",
    "        loss = []\n",
    "        self.optimizer.zero_grad()\n",
    "        for step, (masks_tensor, sents, _,) in enumerate(tqdm(train_data, desc=\"Training\", leave=False)):\n",
    "            #calc step\n",
    "            with torch.autocast(device_type=self.device):\n",
    "                masks_tensor = masks_tensor.to(self.device, non_blocking=True)\n",
    "                sents = sents.to(self.device, non_blocking=True)\n",
    "                img_embeddings = img_embedder(masks_tensor)\n",
    "                text_embeddings = text_embedder(sents)\n",
    "                img_encoded, _ = siam_model(img_embeddings)\n",
    "                text_encoded, _ = siam_model(text_embeddings)\n",
    "                step_loss = self.loss_fn(img_encoded, text_encoded)\n",
    "            self.scaler.scale(step_loss).backward()\n",
    "            if (step + 1) % scaler_step == 0:\n",
    "                self.scaler.step(self.optimizer)\n",
    "                self.scaler.update()\n",
    "                self.optimizer.zero_grad()\n",
    "            step_loss = step_loss.cpu().detach().item()\n",
    "            loss.append(step_loss)\n",
    "            if self.tb_path is not None:\n",
    "                self.writer.add_scalar(\"Contrastive_loss/train\", step_loss, epoch * len(train_data) + step)\n",
    "        return np.mean(loss)\n",
    "\n",
    "\n",
    "    @torch.no_grad()\n",
    "    def validate(self, val_data):\n",
    "        self.img_embedder.eval()\n",
    "        self.text_embedder.eval()\n",
    "        self.siam_model.eval()\n",
    "        mse_acc = []\n",
    "        coss_acc = []\n",
    "        snx = []\n",
    "        mse = torch.nn.functional.mse_loss\n",
    "        cos_los = torch.nn.functional.cosine_embedding_loss\n",
    "        csm_loss = ContrastiveSoftMax(batch_size=self.conf['train_settings']['batch_size'],  temperature=1.0).to(self.device)\n",
    "        for _, (masks_tensor, sents, _) in enumerate(tqdm(val_data, desc=\"Validating\", leave=False)):\n",
    "            with torch.autocast(device_type=self.device):\n",
    "                masks_tensor = masks_tensor.to(self.device, non_blocking=True)\n",
    "                sents = sents.to(self.device, non_blocking=True)\n",
    "                img_embeddings = self.img_embedder(masks_tensor)\n",
    "                text_embeddings = self.text_embedder(sents)\n",
    "                img_encoded, _ = self.siam_model(img_embeddings)\n",
    "                text_encoded, _ = self.siam_model(text_embeddings)\n",
    "                mse_loss = mse(img_encoded, text_encoded)\n",
    "                cs = cos_los(img_encoded, text_encoded, torch.ones((sents.size()[0])).to(self.device))\n",
    "                csm = csm_loss(img_encoded, text_encoded)\n",
    "                coss_acc.append(cs.cpu().detach().item())\n",
    "                mse_acc.append(mse_loss.cpu().detach().item())\n",
    "                snx.append(csm.cpu().detach().item())\n",
    "        return np.mean(mse_acc), np.mean(coss_acc), np.mean(snx)"
   ]
  },
  {
   "cell_type": "code",
   "execution_count": 7,
   "metadata": {},
   "outputs": [],
   "source": [
    "trainer = Trainer(text_embeder, image_embeder, siam_model, optimizer, BASE_DIR, scheduler, conf, scaler, device, 'tb')\n",
    "gc.collect()\n",
    "torch.cuda.empty_cache()"
   ]
  },
  {
   "cell_type": "code",
   "execution_count": 8,
   "metadata": {},
   "outputs": [
    {
     "data": {
      "application/vnd.jupyter.widget-view+json": {
       "model_id": "204feae9942e4dc197a3a23af0d07b54",
       "version_major": 2,
       "version_minor": 0
      },
      "text/plain": [
       "Epochs:   0%|          | 0/300 [00:00<?, ?it/s]"
      ]
     },
     "metadata": {},
     "output_type": "display_data"
    },
    {
     "data": {
      "application/vnd.jupyter.widget-view+json": {
       "model_id": "e08b58052b4e454499b515e2d92a19e0",
       "version_major": 2,
       "version_minor": 0
      },
      "text/plain": [
       "Training:   0%|          | 0/1764 [00:00<?, ?it/s]"
      ]
     },
     "metadata": {},
     "output_type": "display_data"
    },
    {
     "name": "stderr",
     "output_type": "stream",
     "text": [
      "W0523 12:06:35.892000 139979698008064 torch/_inductor/utils.py:945] [0/0] not enough SMs to use max_autotune_gemm mode\n",
      "AUTOTUNE addmm(8160x1536, 8160x384, 384x1536)\n",
      "  addmm 0.3461 ms 100.0%\n",
      "  bias_addmm 0.3594 ms 96.3%\n",
      "SingleProcess AUTOTUNE takes 0.4966 seconds\n",
      "AUTOTUNE addmm(1248x1536, 1248x384, 384x1536)\n",
      "  bias_addmm 0.0687 ms 100.0%\n",
      "  addmm 0.0717 ms 95.9%\n",
      "SingleProcess AUTOTUNE takes 0.3040 seconds\n"
     ]
    },
    {
     "data": {
      "application/vnd.jupyter.widget-view+json": {
       "model_id": "690c11752de1472fae7be0f94047d3d8",
       "version_major": 2,
       "version_minor": 0
      },
      "text/plain": [
       "Validating:   0%|          | 0/158 [00:00<?, ?it/s]"
      ]
     },
     "metadata": {},
     "output_type": "display_data"
    },
    {
     "name": "stdout",
     "output_type": "stream",
     "text": [
      "Epoch: 0/(0, 300) - Loss: 2.3468\n"
     ]
    },
    {
     "data": {
      "application/vnd.jupyter.widget-view+json": {
       "model_id": "4f266fb6d09e486e933ffde0a0952816",
       "version_major": 2,
       "version_minor": 0
      },
      "text/plain": [
       "Training:   0%|          | 0/1764 [00:00<?, ?it/s]"
      ]
     },
     "metadata": {},
     "output_type": "display_data"
    },
    {
     "data": {
      "application/vnd.jupyter.widget-view+json": {
       "model_id": "603988f532144b43aabcaa727f0c7bba",
       "version_major": 2,
       "version_minor": 0
      },
      "text/plain": [
       "Validating:   0%|          | 0/158 [00:00<?, ?it/s]"
      ]
     },
     "metadata": {},
     "output_type": "display_data"
    },
    {
     "name": "stdout",
     "output_type": "stream",
     "text": [
      "Epoch: 1/(0, 300) - Loss: 2.1220\n"
     ]
    },
    {
     "data": {
      "application/vnd.jupyter.widget-view+json": {
       "model_id": "0f4ff49f5e284638bec7381e20042998",
       "version_major": 2,
       "version_minor": 0
      },
      "text/plain": [
       "Training:   0%|          | 0/1764 [00:00<?, ?it/s]"
      ]
     },
     "metadata": {},
     "output_type": "display_data"
    },
    {
     "data": {
      "application/vnd.jupyter.widget-view+json": {
       "model_id": "a8feacde1855423ab84e03ec65b16b17",
       "version_major": 2,
       "version_minor": 0
      },
      "text/plain": [
       "Validating:   0%|          | 0/158 [00:00<?, ?it/s]"
      ]
     },
     "metadata": {},
     "output_type": "display_data"
    },
    {
     "name": "stdout",
     "output_type": "stream",
     "text": [
      "Epoch: 2/(0, 300) - Loss: 2.1163\n"
     ]
    },
    {
     "data": {
      "application/vnd.jupyter.widget-view+json": {
       "model_id": "96545edacdfe42778e2f24121b923fe2",
       "version_major": 2,
       "version_minor": 0
      },
      "text/plain": [
       "Training:   0%|          | 0/1764 [00:00<?, ?it/s]"
      ]
     },
     "metadata": {},
     "output_type": "display_data"
    },
    {
     "data": {
      "application/vnd.jupyter.widget-view+json": {
       "model_id": "5df7b96cd2d94541bea4d24133323307",
       "version_major": 2,
       "version_minor": 0
      },
      "text/plain": [
       "Validating:   0%|          | 0/158 [00:00<?, ?it/s]"
      ]
     },
     "metadata": {},
     "output_type": "display_data"
    },
    {
     "name": "stdout",
     "output_type": "stream",
     "text": [
      "Epoch: 3/(0, 300) - Loss: 2.0628\n"
     ]
    },
    {
     "data": {
      "application/vnd.jupyter.widget-view+json": {
       "model_id": "5c02cfafeedc4d9cad170edb834e651d",
       "version_major": 2,
       "version_minor": 0
      },
      "text/plain": [
       "Training:   0%|          | 0/1764 [00:00<?, ?it/s]"
      ]
     },
     "metadata": {},
     "output_type": "display_data"
    },
    {
     "ename": "KeyboardInterrupt",
     "evalue": "",
     "output_type": "error",
     "traceback": [
      "\u001b[0;31m---------------------------------------------------------------------------\u001b[0m",
      "\u001b[0;31mKeyboardInterrupt\u001b[0m                         Traceback (most recent call last)",
      "Cell \u001b[0;32mIn[8], line 1\u001b[0m\n\u001b[0;32m----> 1\u001b[0m \u001b[43mtrainer\u001b[49m\u001b[38;5;241;43m.\u001b[39;49m\u001b[43mtrain\u001b[49m\u001b[43m(\u001b[49m\u001b[43mtrain_data\u001b[49m\u001b[43m,\u001b[49m\u001b[43m \u001b[49m\u001b[43mval_data\u001b[49m\u001b[43m,\u001b[49m\u001b[43m \u001b[49m\u001b[43mepoch\u001b[49m\u001b[43m,\u001b[49m\u001b[43m \u001b[49m\u001b[43mlosses\u001b[49m\u001b[43m,\u001b[49m\u001b[43m \u001b[49m\u001b[43mval_scores\u001b[49m\u001b[43m,\u001b[49m\u001b[43m \u001b[49m\u001b[43mscaler_step\u001b[49m\u001b[38;5;241;43m=\u001b[39;49m\u001b[43mconf\u001b[49m\u001b[43m[\u001b[49m\u001b[38;5;124;43m'\u001b[39;49m\u001b[38;5;124;43mtrain_settings\u001b[39;49m\u001b[38;5;124;43m'\u001b[39;49m\u001b[43m]\u001b[49m\u001b[43m[\u001b[49m\u001b[38;5;124;43m'\u001b[39;49m\u001b[38;5;124;43mscaler_step\u001b[39;49m\u001b[38;5;124;43m'\u001b[39;49m\u001b[43m]\u001b[49m\u001b[43m,\u001b[49m\u001b[43m \u001b[49m\u001b[43mcheckpoint_step\u001b[49m\u001b[38;5;241;43m=\u001b[39;49m\u001b[43mconf\u001b[49m\u001b[43m[\u001b[49m\u001b[38;5;124;43m'\u001b[39;49m\u001b[38;5;124;43mtrain_settings\u001b[39;49m\u001b[38;5;124;43m'\u001b[39;49m\u001b[43m]\u001b[49m\u001b[43m[\u001b[49m\u001b[38;5;124;43m'\u001b[39;49m\u001b[38;5;124;43mcheckpoint_step\u001b[39;49m\u001b[38;5;124;43m'\u001b[39;49m\u001b[43m]\u001b[49m\u001b[43m)\u001b[49m\n",
      "Cell \u001b[0;32mIn[6], line 24\u001b[0m, in \u001b[0;36mTrainer.train\u001b[0;34m(self, train_data, val_data, epochs, losses, val_scores, checkpoint_step, scheduler_step, scaler_step)\u001b[0m\n\u001b[1;32m     22\u001b[0m     \u001b[38;5;28mself\u001b[39m\u001b[38;5;241m.\u001b[39mwriter\u001b[38;5;241m.\u001b[39madd_scalar(\u001b[38;5;124m\"\u001b[39m\u001b[38;5;124mMSE/val\u001b[39m\u001b[38;5;124m\"\u001b[39m, vl, i)\n\u001b[1;32m     23\u001b[0m \u001b[38;5;28;01mfor\u001b[39;00m epoch \u001b[38;5;129;01min\u001b[39;00m tqdm(\u001b[38;5;28mrange\u001b[39m(epochs[\u001b[38;5;241m0\u001b[39m], epochs[\u001b[38;5;241m1\u001b[39m]), desc\u001b[38;5;241m=\u001b[39m\u001b[38;5;124m'\u001b[39m\u001b[38;5;124mEpochs\u001b[39m\u001b[38;5;124m'\u001b[39m):\n\u001b[0;32m---> 24\u001b[0m     train_loss \u001b[38;5;241m=\u001b[39m \u001b[38;5;28;43mself\u001b[39;49m\u001b[38;5;241;43m.\u001b[39;49m\u001b[43mtrain_epoch\u001b[49m\u001b[43m(\u001b[49m\u001b[43mtrain_data\u001b[49m\u001b[43m,\u001b[49m\u001b[43m \u001b[49m\u001b[43mepoch\u001b[49m\u001b[43m,\u001b[49m\u001b[43m \u001b[49m\u001b[43mscaler_step\u001b[49m\u001b[43m)\u001b[49m\n\u001b[1;32m     25\u001b[0m     val_acc, cosine_acc, snx_loss \u001b[38;5;241m=\u001b[39m \u001b[38;5;28mself\u001b[39m\u001b[38;5;241m.\u001b[39mvalidate(val_data)\n\u001b[1;32m     26\u001b[0m     \u001b[38;5;28;01mif\u001b[39;00m \u001b[38;5;28mself\u001b[39m\u001b[38;5;241m.\u001b[39mtb_path \u001b[38;5;129;01mis\u001b[39;00m \u001b[38;5;129;01mnot\u001b[39;00m \u001b[38;5;28;01mNone\u001b[39;00m:\n",
      "Cell \u001b[0;32mIn[6], line 76\u001b[0m, in \u001b[0;36mTrainer.train_epoch\u001b[0;34m(self, train_data, epoch, scaler_step)\u001b[0m\n\u001b[1;32m     74\u001b[0m     \u001b[38;5;28mself\u001b[39m\u001b[38;5;241m.\u001b[39mscaler\u001b[38;5;241m.\u001b[39mupdate()\n\u001b[1;32m     75\u001b[0m     \u001b[38;5;28mself\u001b[39m\u001b[38;5;241m.\u001b[39moptimizer\u001b[38;5;241m.\u001b[39mzero_grad()\n\u001b[0;32m---> 76\u001b[0m step_loss \u001b[38;5;241m=\u001b[39m \u001b[43mstep_loss\u001b[49m\u001b[38;5;241;43m.\u001b[39;49m\u001b[43mcpu\u001b[49m\u001b[43m(\u001b[49m\u001b[43m)\u001b[49m\u001b[38;5;241m.\u001b[39mdetach()\u001b[38;5;241m.\u001b[39mitem()\n\u001b[1;32m     77\u001b[0m loss\u001b[38;5;241m.\u001b[39mappend(step_loss)\n\u001b[1;32m     78\u001b[0m \u001b[38;5;28;01mif\u001b[39;00m \u001b[38;5;28mself\u001b[39m\u001b[38;5;241m.\u001b[39mtb_path \u001b[38;5;129;01mis\u001b[39;00m \u001b[38;5;129;01mnot\u001b[39;00m \u001b[38;5;28;01mNone\u001b[39;00m:\n",
      "\u001b[0;31mKeyboardInterrupt\u001b[0m: "
     ]
    }
   ],
   "source": [
    "trainer.train(train_data, val_data, epoch, losses, val_scores, scaler_step=conf['train_settings']['scaler_step'], checkpoint_step=conf['train_settings']['checkpoint_step'])"
   ]
  },
  {
   "cell_type": "code",
   "execution_count": 64,
   "metadata": {},
   "outputs": [],
   "source": [
    "from datasets import load_dataset, DatasetDict\n",
    "ds = load_dataset(\"embedding-data/coco_captions\")\n",
    "train_testvalid = ds['train'].train_test_split(test_size=0.1)\n",
    "ds = DatasetDict(\n",
    "    {\n",
    "        'train': train_testvalid['train'],\n",
    "        'val': train_testvalid['test']\n",
    "    })"
   ]
  },
  {
   "cell_type": "code",
   "execution_count": 65,
   "metadata": {},
   "outputs": [
    {
     "data": {
      "text/plain": [
       "DatasetDict({\n",
       "    train: Dataset({\n",
       "        features: ['set'],\n",
       "        num_rows: 74504\n",
       "    })\n",
       "    val: Dataset({\n",
       "        features: ['set'],\n",
       "        num_rows: 8279\n",
       "    })\n",
       "})"
      ]
     },
     "execution_count": 65,
     "metadata": {},
     "output_type": "execute_result"
    }
   ],
   "source": [
    "ds"
   ]
  },
  {
   "cell_type": "code",
   "execution_count": 6,
   "metadata": {},
   "outputs": [],
   "source": [
    "from torch.utils.data import Dataset, DataLoader\n",
    "import numpy as np\n",
    "from datasets import load_dataset, DatasetDict\n",
    "\n",
    "ds = load_dataset(\"embedding-data/coco_captions\")\n",
    "train_testvalid = ds['train'].train_test_split(test_size=0.1)\n",
    "ds = DatasetDict(\n",
    "    {\n",
    "        'train': train_testvalid['train'],\n",
    "        'val': train_testvalid['test']\n",
    "    })\n",
    "\n",
    "class TextPairsDataset(Dataset):\n",
    "    def __init__(self, data, accessor):\n",
    "        self.data = data\n",
    "        self.accessor = accessor\n",
    "        self.len = len(self.accessor(self.data))\n",
    "    \n",
    "    def __len__(self):\n",
    "        return self.len\n",
    "    \n",
    "    def __getitem__(self, index):\n",
    "        choises = len(self.accessor(self.data)[index])\n",
    "        x, y = np.random.choice(choises, 2)\n",
    "        return self.accessor(self.data)[index][x], self.accessor(self.data)[index][y]\n",
    "\n",
    "\n",
    "text_train_dataset = TextPairsDataset(ds['train'], lambda x: x['set'])\n",
    "text_val_dataset = TextPairsDataset(ds['val'], lambda x: x['set'])\n",
    "\n",
    "def pading_sentences_fn(data):\n",
    "    sents1, sents2 = zip(*data)\n",
    "    sents1, _ = tokenize_sent_batch(sents1)\n",
    "    sents2, _ = tokenize_sent_batch(sents2)\n",
    "    return sents1, sents2\n",
    "\n",
    "text_train_dataset = TextPairsDataset(ds['train'], lambda x: x['set'])\n",
    "text_val_dataset = TextPairsDataset(ds['val'], lambda x: x['set'])\n",
    "text_train_dataloader = DataLoader(\n",
    "    text_train_dataset,\n",
    "    batch_size=conf['train_settings']['batch_size'],\n",
    "    shuffle=True,\n",
    "    pin_memory=True,\n",
    "    drop_last=True,\n",
    "    num_workers=6,\n",
    "    collate_fn=pading_sentences_fn\n",
    ")\n",
    "text_val_dataloader = DataLoader(\n",
    "    text_val_dataset,\n",
    "    batch_size=conf['train_settings']['batch_size'],\n",
    "    shuffle=False,\n",
    "    pin_memory=True,\n",
    "    drop_last=True,\n",
    "    num_workers=6,\n",
    "    collate_fn=pading_sentences_fn\n",
    ")"
   ]
  },
  {
   "cell_type": "code",
   "execution_count": 122,
   "metadata": {},
   "outputs": [
    {
     "name": "stdout",
     "output_type": "stream",
     "text": [
      "Using downloaded and verified file: ./datasets/VOCtrainval_11-May-2012.tar\n",
      "Extracting ./datasets/VOCtrainval_11-May-2012.tar to ./datasets\n"
     ]
    }
   ],
   "source": [
    "import matplotlib.pyplot as plt\n",
    "import torchvision\n",
    "from torchvision.transforms import v2\n",
    "from data_utils.dataset import affine_transform, ReferenceDataset\n",
    "import cv2\n",
    "import numpy as np\n",
    "\n",
    "class custom_augmentation(object):\n",
    "    def __init__(self, p=0.5):\n",
    "        self.p = p\n",
    "\n",
    "    def __call__(self, img, target):\n",
    "        open_cv_image = np.array(img)\n",
    "        open_cv_image = open_cv_image[:, :, ::-1].copy()\n",
    "        open_cv_mask = np.array(target.convert('L'))\n",
    "        open_cv_mask = open_cv_mask.astype(np.uint8).copy()\n",
    "        mat, _ = ReferenceDataset.get_transform_mat(open_cv_image.shape[:2], conf['model']['ImageEncoder']['image_size'])\n",
    "        crop = torchvision.transforms.Resize(conf['model']['ImageEncoder']['image_size'])\n",
    "        class_to_extract = 0\n",
    "        while class_to_extract == 0 or class_to_extract == 255:\n",
    "            class_to_extract = np.random.choice(np.unique(open_cv_mask))\n",
    "        open_cv_mask = np.where(open_cv_mask == class_to_extract, 1, 0).astype(np.uint8)\n",
    "        print(np.unique(open_cv_mask), open_cv_mask.dtype, open_cv_mask.shape[:2], open_cv_image.shape)\n",
    "        print(np.unique(transformed_mask), open_cv_image.shape[:2], open_cv_mask.shape[:2])\n",
    "        tensor_img = ReferenceDataset.convert_to_tensor(transformed_img)\n",
    "        tensor_mask = ReferenceDataset.convert_to_tensor(transformed_mask, mask=True)\n",
    "        train_mask = ReferenceDataset.extract_segment(tensor_img, tensor_mask)\n",
    "        ax = plt.gca()\n",
    "        ax.imshow(tensor_img.permute(1, 2, 0))\n",
    "        return (img, target)\n",
    "\n",
    "\n",
    "transforms = v2.Compose([\n",
    "    # v2.RandomHorizontalFlip(p=0.5),\n",
    "    # v2.Normalize(mean=[0.485, 0.456, 0.406], std=[0.229, 0.224, 0.225]),\n",
    "    custom_augmentation(),\n",
    "])\n",
    "dataset = torchvision.datasets.VOCSegmentation(root='./datasets', \n",
    "                                               image_set='trainval', \n",
    "                                               download=True,\n",
    "                                               transforms=transforms\n",
    "                                               )"
   ]
  },
  {
   "cell_type": "code",
   "execution_count": 123,
   "metadata": {},
   "outputs": [
    {
     "name": "stderr",
     "output_type": "stream",
     "text": [
      "Clipping input data to the valid range for imshow with RGB data ([0..1] for floats or [0..255] for integers).\n"
     ]
    },
    {
     "name": "stdout",
     "output_type": "stream",
     "text": [
      "[0 1] uint8 (281, 500) (281, 500, 3)\n",
      "[0] (281, 500) (281, 500)\n"
     ]
    },
    {
     "data": {
      "image/png": "[encoded data removed]",
      "text/plain": [
       "<Figure size 640x480 with 1 Axes>"
      ]
     },
     "metadata": {},
     "output_type": "display_data"
    }
   ],
   "source": [
    "a = dataset[0]"
   ]
  },
  {
   "cell_type": "code",
   "execution_count": 17,
   "metadata": {},
   "outputs": [
    {
     "data": {
      "text/plain": [
       "(<PIL.Image.Image image mode=RGB size=375x500>,\n",
       " <PIL.PngImagePlugin.PngImageFile image mode=P size=375x500>)"
      ]
     },
     "execution_count": 17,
     "metadata": {},
     "output_type": "execute_result"
    }
   ],
   "source": [
    "a"
   ]
  },
  {
   "cell_type": "code",
   "execution_count": null,
   "metadata": {},
   "outputs": [],
   "source": []
  }
 ],
 "metadata": {
  "kernelspec": {
   "display_name": "env",
   "language": "python",
   "name": "python3"
  },
  "language_info": {
   "codemirror_mode": {
    "name": "ipython",
    "version": 3
   },
   "file_extension": ".py",
   "mimetype": "text/x-python",
   "name": "python",
   "nbconvert_exporter": "python",
   "pygments_lexer": "ipython3",
   "version": "3.10.12"
  }
 },
 "nbformat": 4,
 "nbformat_minor": 2
}
